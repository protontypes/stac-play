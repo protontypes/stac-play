{
 "cells": [
  {
   "cell_type": "code",
   "execution_count": 1,
   "id": "4d410b13",
   "metadata": {},
   "outputs": [],
   "source": [
    "import pystac_client\n",
    "import stackstac\n",
    "import planetary_computer as pc\n",
    "\n",
    "# Important infor for later\n",
    "endpoint = \"https://planetarycomputer.microsoft.com/api/stac/v1\"\n",
    "collection = \"sentinel-2-l2a\"\n",
    "\n",
    "west_lon_degree=6.7319\n",
    "south_lat_degree=51.1742\n",
    "east_lon_degree=6.9013\n",
    "north_lat_degree=51.0652\n",
    "\n",
    "\n",
    "bounds = (west_lon_degree, south_lat_degree, east_lon_degree, north_lat_degree)\n",
    "\n",
    "# Open the STAC\n",
    "catalog = pystac_client.Client.open(endpoint, modifier=pc.sign_inplace)\n",
    "\n",
    "# Define your area\n",
    "area_of_interest = {\n",
    "    \"type\": \"Polygon\",\n",
    "    \"coordinates\": [\n",
    "        [\n",
    "            [bounds[0], bounds[1]],\n",
    "            [bounds[2], bounds[1]],\n",
    "            [bounds[2], bounds[3]],\n",
    "            [bounds[0], bounds[3]],\n",
    "            [bounds[0], bounds[1]],\n",
    "        ]\n",
    "    ],\n",
    "}\n",
    "\n",
    "# Search the items\n",
    "items = catalog.search(\n",
    "    collections=[collection],\n",
    "    intersects=area_of_interest,\n",
    "    datetime=\"2019-06-01/2019-08-01\",\n",
    "    query={\"eo:cloud_cover\": {\"lt\"  : 10}},\n",
    ").get_all_items()\n"
   ]
  },
  {
   "cell_type": "code",
   "execution_count": 13,
   "id": "bdc16700",
   "metadata": {},
   "outputs": [
    {
     "data": {
      "text/plain": [
       "32632"
      ]
     },
     "execution_count": 13,
     "metadata": {},
     "output_type": "execute_result"
    }
   ],
   "source": [
    "from pyproj import CRS\n",
    "from pyproj.aoi import AreaOfInterest\n",
    "from pyproj.database import query_utm_crs_info\n",
    "\n",
    "utm_crs_list = query_utm_crs_info(\n",
    "    datum_name=\"WGS 84\",\n",
    "    area_of_interest=AreaOfInterest(\n",
    "        west_lon_degree=west_lon_degree,\n",
    "        south_lat_degree=south_lat_degree,\n",
    "        east_lon_degree=east_lon_degree,\n",
    "        north_lat_degree=north_lat_degree,\n",
    "    ),\n",
    ")\n",
    "utm_crs = CRS.from_epsg(utm_crs_list[0].code)\n",
    "utm_crs.to_epsg()"
   ]
  },
  {
   "cell_type": "code",
   "execution_count": 14,
   "id": "1f7efc56",
   "metadata": {},
   "outputs": [
    {
     "name": "stdout",
     "output_type": "stream",
     "text": [
      "<bound method Item.to_dict of <Item id=S2A_31UGS_20200427_0_L2A>>\n",
      "<xarray.DataArray 'stackstac-21dda693c65eae318dca24b000e9cc86' (time: 12,\n",
      "                                                                band: 17,\n",
      "                                                                y: 11831,\n",
      "                                                                x: 13597)>\n",
      "dask.array<fetch_raster_window, shape=(12, 17, 11831, 13597), dtype=float64, chunksize=(1, 1, 1024, 1024), chunktype=numpy.ndarray>\n",
      "Coordinates: (12/24)\n",
      "  * time                        (time) datetime64[ns] 2020-04-02T10:46:47 ......\n",
      "    id                          (time) <U24 'S2B_32ULB_20200402_0_L2A' ... 'S...\n",
      "  * band                        (band) <U8 'overview' 'B11' ... 'visual' 'SCL'\n",
      "  * x                           (x) float64 2.738e+05 2.738e+05 ... 4.098e+05\n",
      "  * y                           (y) float64 5.701e+06 5.701e+06 ... 5.582e+06\n",
      "    sentinel:product_id         (time) <U60 'S2B_MSIL2A_20200402T103619_N0214...\n",
      "    ...                          ...\n",
      "    sentinel:data_coverage      int64 100\n",
      "    platform                    (time) <U11 'sentinel-2b' ... 'sentinel-2a'\n",
      "    sentinel:sequence           <U1 '0'\n",
      "    sentinel:grid_square        (time) <U2 'LB' 'GS' 'LB' ... 'GS' 'LB' 'GS'\n",
      "    title                       (band) <U31 'True color image' ... 'Scene Cla...\n",
      "    epsg                        int64 32632\n",
      "Attributes:\n",
      "    spec:        RasterSpec(epsg=32632, bounds=(273830.0, 5582400.0, 409800.0...\n",
      "    crs:         epsg:32632\n",
      "    transform:   | 10.00, 0.00, 273830.00|\\n| 0.00,-10.00, 5700710.00|\\n| 0.0...\n",
      "    resolution:  10.0\n"
     ]
    }
   ],
   "source": [
    "URL = \"https://earth-search.aws.element84.com/v0\"\n",
    "catalog = pystac_client.Client.open(URL)\n",
    "\n",
    "stac_items = catalog.search(\n",
    "    intersects=dict(type=\"Point\", coordinates=[6.7319, 51.1742]),\n",
    "    collections=[\"sentinel-s2-l2a-cogs\"],\n",
    "    datetime=\"2020-04-01/2020-05-01\"\n",
    ").get_all_items()\n",
    "\n",
    "print(stac_items.items[0].to_dict)\n",
    "stack = stackstac.stack(stac_items,epsg=utm_crs.to_epsg())\n",
    "print(stack)\n"
   ]
  }
 ],
 "metadata": {
  "kernelspec": {
   "display_name": "Python 3",
   "language": "python",
   "name": "python3"
  },
  "language_info": {
   "codemirror_mode": {
    "name": "ipython",
    "version": 3
   },
   "file_extension": ".py",
   "mimetype": "text/x-python",
   "name": "python",
   "nbconvert_exporter": "python",
   "pygments_lexer": "ipython3",
   "version": "3.8.10"
  }
 },
 "nbformat": 4,
 "nbformat_minor": 5
}
